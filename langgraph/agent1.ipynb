{
 "cells": [
  {
   "cell_type": "code",
   "execution_count": 1,
   "id": "2ebe5c8a",
   "metadata": {},
   "outputs": [],
   "source": [
    "from typing import Dict, TypedDict\n",
    "from langgraph.graph import StateGraph"
   ]
  },
  {
   "cell_type": "code",
   "execution_count": 7,
   "id": "dc938a14",
   "metadata": {},
   "outputs": [],
   "source": [
    "class AgentState(TypedDict):\n",
    "    message : str\n",
    "\n",
    "def greeting_node(state : AgentState) -> AgentState:\n",
    "    \"\"\"\n",
    "    A simple node that adds a greeting message to the state.\n",
    "    \"\"\"\n",
    "    state['message'] = f\"Hey {state['message']}, how can I help you today?\\n\"\n",
    "\n",
    "    return state\n",
    "\n",
    "\n",
    "def compliment_node(state: AgentState) -> AgentState:\n",
    "    \"\"\"\n",
    "    A simple node that adds a compliment message to the state.\n",
    "    \"\"\"\n",
    "    state['message'] += \"You are doing an amazing job.\\n\"\n",
    "    return state"
   ]
  },
  {
   "cell_type": "code",
   "execution_count": 3,
   "id": "97df887d",
   "metadata": {},
   "outputs": [
    {
     "data": {
      "text/plain": [
       "<langgraph.graph.state.StateGraph at 0x1e70635c6e0>"
      ]
     },
     "execution_count": 3,
     "metadata": {},
     "output_type": "execute_result"
    }
   ],
   "source": [
    "graph = StateGraph(AgentState)\n",
    "\n",
    "\n",
    "graph.add_node(\"greeter\", greeting_node)\n",
    "graph.add_node(\"complimenter\", compliment_node)\n",
    "\n",
    "graph.set_entry_point(\"greeter\")\n",
    "graph.add_edge(\"greeter\", \"complimenter\")\n",
    "graph.set_finish_point(\"complimenter\")"
   ]
  },
  {
   "cell_type": "code",
   "execution_count": 4,
   "id": "31ecc11f",
   "metadata": {},
   "outputs": [],
   "source": [
    "app = graph.compile()"
   ]
  },
  {
   "cell_type": "code",
   "execution_count": 34,
   "id": "09f78bfa",
   "metadata": {},
   "outputs": [
    {
     "data": {
      "image/png": "[encoded data removed]",
      "text/plain": [
       "<IPython.core.display.Image object>"
      ]
     },
     "metadata": {},
     "output_type": "display_data"
    }
   ],
   "source": [
    "from IPython.display import Image, display\n",
    "\n",
    "display(Image(app.get_graph().draw_mermaid_png()))"
   ]
  },
  {
   "cell_type": "code",
   "execution_count": 5,
   "id": "059484aa",
   "metadata": {},
   "outputs": [],
   "source": [
    "res = app.invoke({\"message\": \"Bob\"})"
   ]
  },
  {
   "cell_type": "code",
   "execution_count": 6,
   "id": "e8debbbb",
   "metadata": {},
   "outputs": [
    {
     "name": "stdout",
     "output_type": "stream",
     "text": [
      "Hey Bob, how can I help you today?\n",
      "You are doing an amazing job.\n",
      "\n"
     ]
    }
   ],
   "source": [
    "print(res['message'])"
   ]
  }
 ],
 "metadata": {
  "kernelspec": {
   "display_name": "Agents (3.12.10)",
   "language": "python",
   "name": "python3"
  },
  "language_info": {
   "codemirror_mode": {
    "name": "ipython",
    "version": 3
   },
   "file_extension": ".py",
   "mimetype": "text/x-python",
   "name": "python",
   "nbconvert_exporter": "python",
   "pygments_lexer": "ipython3",
   "version": "3.12.10"
  }
 },
 "nbformat": 4,
 "nbformat_minor": 5
}
