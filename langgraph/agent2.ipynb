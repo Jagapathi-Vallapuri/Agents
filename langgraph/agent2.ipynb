{
 "cells": [
  {
   "cell_type": "code",
   "execution_count": 16,
   "id": "9cbf9819",
   "metadata": {},
   "outputs": [],
   "source": [
    "from typing import TypedDict, List\n",
    "from langgraph.graph import StateGraph\n",
    "from functools import reduce"
   ]
  },
  {
   "cell_type": "code",
   "execution_count": 12,
   "id": "a74e699e",
   "metadata": {},
   "outputs": [],
   "source": [
    "class AgentState(TypedDict):\n",
    "    values : List[int]\n",
    "    operation : str\n",
    "    name : str\n",
    "    result : str"
   ]
  },
  {
   "cell_type": "code",
   "execution_count": 27,
   "id": "a3ace605",
   "metadata": {},
   "outputs": [],
   "source": [
    "def process_value(state: AgentState) -> AgentState:\n",
    "    if state['operation'] == '+':\n",
    "        state['result'] = f\"Hey ! {state['name']} , Sum of all your values is {sum(state['values'])}.\"\n",
    "    elif state['operation'] == '*':\n",
    "        state['result'] = f\"Hey {state['name']}!, Product of all your values is {reduce(lambda x,y: (x*y),state['values'])}.\"\n",
    "    else:\n",
    "        state['result'] = \"Invalid operation\"\n",
    "    return state"
   ]
  },
  {
   "cell_type": "code",
   "execution_count": 29,
   "id": "a013b064",
   "metadata": {},
   "outputs": [],
   "source": [
    "graph = StateGraph(AgentState)\n",
    "\n",
    "\n",
    "graph.add_node(\"processor\", process_value)\n",
    "graph.set_entry_point(\"processor\")\n",
    "graph.set_finish_point(\"processor\")   \n",
    "\n",
    "app =graph.compile()"
   ]
  },
  {
   "cell_type": "code",
   "execution_count": 30,
   "id": "21b73161",
   "metadata": {},
   "outputs": [],
   "source": [
    "res = app.invoke({\n",
    "    \"name\":\"Bob\",\n",
    "    \"operation\":\"*\",\n",
    "    \"values\": [1, 2, 30],\n",
    "}) # type: ignore"
   ]
  },
  {
   "cell_type": "code",
   "execution_count": 31,
   "id": "a1beb0ef",
   "metadata": {},
   "outputs": [
    {
     "name": "stdout",
     "output_type": "stream",
     "text": [
      "Hey Bob!, Product of all your values is 60.\n"
     ]
    }
   ],
   "source": [
    "print(res['result'])"
   ]
  }
 ],
 "metadata": {
  "kernelspec": {
   "display_name": "Agents (3.12.10)",
   "language": "python",
   "name": "python3"
  },
  "language_info": {
   "codemirror_mode": {
    "name": "ipython",
    "version": 3
   },
   "file_extension": ".py",
   "mimetype": "text/x-python",
   "name": "python",
   "nbconvert_exporter": "python",
   "pygments_lexer": "ipython3",
   "version": "3.12.10"
  }
 },
 "nbformat": 4,
 "nbformat_minor": 5
}
