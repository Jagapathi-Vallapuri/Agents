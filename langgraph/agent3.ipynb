{
 "cells": [
  {
   "cell_type": "code",
   "execution_count": 39,
   "id": "f726f0c9",
   "metadata": {},
   "outputs": [],
   "source": [
    "from typing import TypedDict, List\n",
    "from langgraph.graph import StateGraph"
   ]
  },
  {
   "cell_type": "code",
   "execution_count": 40,
   "id": "77eea0ad",
   "metadata": {},
   "outputs": [],
   "source": [
    "class AgentState(TypedDict):\n",
    "    name: str\n",
    "    age: str\n",
    "    skills:List[str]\n",
    "    final: str"
   ]
  },
  {
   "cell_type": "code",
   "execution_count": 41,
   "id": "574c0746",
   "metadata": {},
   "outputs": [],
   "source": [
    "def first_node(state:AgentState) -> AgentState:\n",
    "    \"\"\"\n",
    "    \"\"\"\n",
    "    state['final'] = f\"Hi! {state['name']}\"\n",
    "    return state\n",
    "\n",
    "def second_node(state:AgentState) -> AgentState:\n",
    "    \"\"\"\"\"\"\n",
    "    state['final'] = state['final'] + f\"\\nYou are {state['age']} years old.\"\n",
    "    return state\n",
    "\n",
    "def third_node(state:AgentState) -> AgentState:\n",
    "    \"\"\"\"\"\"\n",
    "    state['final'] += f\"\\nYou have the following skills :\"\n",
    "    for s in state['skills']:\n",
    "        state['final'] += s + \" \"\n",
    "    state['final'] += \".\"\n",
    "    return state"
   ]
  },
  {
   "cell_type": "code",
   "execution_count": 42,
   "id": "9a24307c",
   "metadata": {},
   "outputs": [],
   "source": [
    "graph = StateGraph(AgentState)\n",
    "\n",
    "graph.add_node(\"first_node\", first_node)\n",
    "graph.add_node(\"second_node\", second_node)\n",
    "graph.add_node(\"third_node\", third_node)\n",
    "\n",
    "graph.set_entry_point(\"first_node\")\n",
    "graph.add_edge(\"first_node\", \"second_node\")\n",
    "graph.add_edge(\"second_node\", \"third_node\")\n",
    "graph.set_finish_point(\"third_node\")\n",
    "\n",
    "app= graph.compile()"
   ]
  },
  {
   "cell_type": "code",
   "execution_count": 43,
   "id": "5ca67eaf",
   "metadata": {},
   "outputs": [
    {
     "data": {
      "image/png": "[encoded data removed]",
      "text/plain": [
       "<IPython.core.display.Image object>"
      ]
     },
     "metadata": {},
     "output_type": "display_data"
    }
   ],
   "source": [
    "from IPython.display import Image, display\n",
    "\n",
    "display(Image(app.get_graph().draw_mermaid_png()))"
   ]
  },
  {
   "cell_type": "code",
   "execution_count": 44,
   "id": "a1e1d00e",
   "metadata": {},
   "outputs": [],
   "source": [
    "res = app.invoke({\"name\":\"Steve\", \"age\":\"45\", \"skills\":[\"Python\", \"Java\"]}) # type: ignore"
   ]
  },
  {
   "cell_type": "code",
   "execution_count": 45,
   "id": "5a4dd65e",
   "metadata": {},
   "outputs": [
    {
     "name": "stdout",
     "output_type": "stream",
     "text": [
      "Hi! Steve\n",
      "You are 45 years old.\n",
      "You have the following skills :Python Java .\n"
     ]
    }
   ],
   "source": [
    "print(res['final'])"
   ]
  }
 ],
 "metadata": {
  "kernelspec": {
   "display_name": "Agents (3.12.10)",
   "language": "python",
   "name": "python3"
  },
  "language_info": {
   "codemirror_mode": {
    "name": "ipython",
    "version": 3
   },
   "file_extension": ".py",
   "mimetype": "text/x-python",
   "name": "python",
   "nbconvert_exporter": "python",
   "pygments_lexer": "ipython3",
   "version": "3.12.10"
  }
 },
 "nbformat": 4,
 "nbformat_minor": 5
}
